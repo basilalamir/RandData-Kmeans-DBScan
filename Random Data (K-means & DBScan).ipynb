{
 "cells": [
  {
   "cell_type": "code",
   "execution_count": 1,
   "metadata": {},
   "outputs": [],
   "source": [
    "import numpy as np\n",
    "import pandas as pd\n",
    "\n",
    "import os\n",
    "\n",
    "import seaborn as sns\n",
    "import matplotlib.pyplot as plt\n",
    "%matplotlib inline"
   ]
  },
  {
   "cell_type": "code",
   "execution_count": 2,
   "metadata": {},
   "outputs": [],
   "source": [
    "#Directory setting\n",
    "os.chdir(r\"/Users/basilshahin/Desktop/Assignment 2\") "
   ]
  },
  {
   "cell_type": "code",
   "execution_count": 3,
   "metadata": {},
   "outputs": [],
   "source": [
    "data= pd.read_csv(\"rand_data.csv\", names=[\"c1\",\"c2\"])"
   ]
  },
  {
   "cell_type": "code",
   "execution_count": 4,
   "metadata": {},
   "outputs": [
    {
     "data": {
      "text/plain": [
       "<matplotlib.axes._subplots.AxesSubplot at 0x1a21695c88>"
      ]
     },
     "execution_count": 4,
     "metadata": {},
     "output_type": "execute_result"
    },
    {
     "data": {
      "image/png": "[encoded data removed]",
      "text/plain": [
       "<Figure size 432x288 with 1 Axes>"
      ]
     },
     "metadata": {
      "needs_background": "light"
     },
     "output_type": "display_data"
    }
   ],
   "source": [
    "sns.scatterplot(x=\"c1\",y=\"c2\",data=data)"
   ]
  },
  {
   "cell_type": "markdown",
   "metadata": {},
   "source": [
    "## K-Means"
   ]
  },
  {
   "cell_type": "code",
   "execution_count": 5,
   "metadata": {},
   "outputs": [],
   "source": [
    "from sklearn.cluster import KMeans"
   ]
  },
  {
   "cell_type": "code",
   "execution_count": 6,
   "metadata": {
    "scrolled": true
   },
   "outputs": [
    {
     "data": {
      "text/plain": [
       "array([[ 0.        ,  1.        ],\n",
       "       [-0.18337324, -1.54622247],\n",
       "       [-1.6233666 , -0.8947072 ],\n",
       "       [-0.02730444, -1.21817575],\n",
       "       [-0.52563794, -1.57811714],\n",
       "       [-1.31715957, -0.39581069],\n",
       "       [-1.21591817, -1.52193954],\n",
       "       [-0.46299997, -0.79841021],\n",
       "       [-1.00357022, -1.27415104],\n",
       "       [-1.13575771, -1.3020172 ],\n",
       "       [-1.67549505, -1.93596544],\n",
       "       [-0.79945883, -1.84835393],\n",
       "       [-1.02691147, -0.25721921],\n",
       "       [-0.33166714, -1.60643634],\n",
       "       [-1.46222184, -1.26152175],\n",
       "       [-1.63816623, -1.33956778],\n",
       "       [-0.18435904, -1.92996065],\n",
       "       [-1.90060854, -1.06723271],\n",
       "       [-1.20869294, -0.30356276],\n",
       "       [-1.89867227, -1.43435932],\n",
       "       [-1.02595175, -0.738958  ],\n",
       "       [-0.99703503, -0.36067983],\n",
       "       [-1.55275489, -1.39968347],\n",
       "       [-1.25277906, -0.62942271],\n",
       "       [-1.9572808 , -0.44751055],\n",
       "       [-1.82027693, -0.01638423],\n",
       "       [-1.07981661, -1.93120424],\n",
       "       [-0.81770853, -0.15316724],\n",
       "       [-0.10201529, -1.2695244 ],\n",
       "       [-0.80314131, -1.38313605],\n",
       "       [-0.47507373, -0.31229666],\n",
       "       [-1.98430313, -1.2480832 ],\n",
       "       [-0.8412747 , -1.83139438],\n",
       "       [-1.44563749, -1.30456096],\n",
       "       [-0.54672072, -0.87485644],\n",
       "       [-0.22179976, -1.04438645],\n",
       "       [-1.81999421, -1.28697506],\n",
       "       [-1.86531928, -0.79177754],\n",
       "       [-1.76475164, -1.5877839 ],\n",
       "       [-0.23614425, -1.31786052],\n",
       "       [-0.00630329, -0.90050603],\n",
       "       [-0.72425185, -1.0413553 ],\n",
       "       [-0.48594965, -0.02182793],\n",
       "       [-1.56840562, -1.69441904],\n",
       "       [-1.29159173, -0.9127507 ],\n",
       "       [-1.05308712, -1.52414895],\n",
       "       [-1.36208172, -0.44054617],\n",
       "       [-0.44556656, -1.84205389],\n",
       "       [-0.27859152, -1.19520818],\n",
       "       [-1.95077545, -0.3094021 ],\n",
       "       [-1.56676122, -0.98800237],\n",
       "       [ 1.20145072,  2.76681663],\n",
       "       [ 1.3368499 ,  1.74446039],\n",
       "       [ 1.19970293,  1.94127908],\n",
       "       [ 2.59632535,  2.13586556],\n",
       "       [ 1.1024834 ,  2.64708622],\n",
       "       [ 1.45344991,  1.90801056],\n",
       "       [ 1.66868988,  2.79260457],\n",
       "       [ 2.7753363 ,  2.80302138],\n",
       "       [ 1.52829722,  2.19386473],\n",
       "       [ 1.475352  ,  2.66110342],\n",
       "       [ 1.22997626,  1.76880793],\n",
       "       [ 2.19290129,  1.42497988],\n",
       "       [ 1.68493014,  2.36523517],\n",
       "       [ 1.12579008,  1.53799958],\n",
       "       [ 1.0656981 ,  2.34495248],\n",
       "       [ 2.42303461,  1.68630639],\n",
       "       [ 2.65348821,  2.55042828],\n",
       "       [ 2.09864334,  2.59965106],\n",
       "       [ 2.19216769,  1.81843676],\n",
       "       [ 2.34498336,  2.52584752],\n",
       "       [ 1.64399767,  2.33888144],\n",
       "       [ 2.38617641,  2.62604692],\n",
       "       [ 1.38477322,  1.10522956],\n",
       "       [ 1.43000991,  1.9708739 ],\n",
       "       [ 1.57803066,  2.12439677],\n",
       "       [ 2.59883275,  2.58276796],\n",
       "       [ 2.12832613,  2.17111796],\n",
       "       [ 2.27588435,  2.76046097],\n",
       "       [ 2.2668376 ,  1.02658982],\n",
       "       [ 2.92698552,  1.90141205],\n",
       "       [ 2.84772645,  1.93352365],\n",
       "       [ 1.99492497,  2.08827802],\n",
       "       [ 1.11332392,  1.0383434 ],\n",
       "       [ 2.1403602 ,  2.93623669],\n",
       "       [ 2.9254695 ,  1.1163034 ],\n",
       "       [ 1.38099782,  1.0085625 ],\n",
       "       [ 2.09350232,  2.00211932],\n",
       "       [ 1.0767413 ,  1.14868092],\n",
       "       [ 1.82101157,  2.88181056],\n",
       "       [ 2.00784394,  1.26193563],\n",
       "       [ 1.06805786,  1.90182126],\n",
       "       [ 1.86217305,  1.107416  ],\n",
       "       [ 2.27684863,  2.98043936],\n",
       "       [ 2.70293767,  1.86631638],\n",
       "       [ 2.20443321,  1.45929168],\n",
       "       [ 2.52013372,  1.39427944],\n",
       "       [ 1.4754902 ,  2.16451643],\n",
       "       [ 2.69541511,  1.30531397],\n",
       "       [ 1.02693483,  2.48778488],\n",
       "       [ 2.37445739,  1.69851964]])"
      ]
     },
     "execution_count": 6,
     "metadata": {},
     "output_type": "execute_result"
    }
   ],
   "source": [
    "data.values"
   ]
  },
  {
   "cell_type": "code",
   "execution_count": 7,
   "metadata": {},
   "outputs": [
    {
     "data": {
      "text/plain": [
       "pandas.core.frame.DataFrame"
      ]
     },
     "execution_count": 7,
     "metadata": {},
     "output_type": "execute_result"
    }
   ],
   "source": [
    "type(data)"
   ]
  },
  {
   "cell_type": "code",
   "execution_count": 8,
   "metadata": {},
   "outputs": [
    {
     "data": {
      "text/plain": [
       "numpy.ndarray"
      ]
     },
     "execution_count": 8,
     "metadata": {},
     "output_type": "execute_result"
    }
   ],
   "source": [
    "type(data.values)"
   ]
  },
  {
   "cell_type": "code",
   "execution_count": 9,
   "metadata": {},
   "outputs": [],
   "source": [
    "kmeans=KMeans(n_clusters=2).fit(data.values)"
   ]
  },
  {
   "cell_type": "code",
   "execution_count": 10,
   "metadata": {},
   "outputs": [
    {
     "data": {
      "text/plain": [
       "KMeans(algorithm='auto', copy_x=True, init='k-means++', max_iter=300,\n",
       "    n_clusters=2, n_init=10, n_jobs=None, precompute_distances='auto',\n",
       "    random_state=None, tol=0.0001, verbose=0)"
      ]
     },
     "execution_count": 10,
     "metadata": {},
     "output_type": "execute_result"
    }
   ],
   "source": [
    "kmeans"
   ]
  },
  {
   "cell_type": "code",
   "execution_count": 11,
   "metadata": {},
   "outputs": [
    {
     "data": {
      "text/plain": [
       "array([[-1.05928972, -1.08627195],\n",
       "       [ 1.87408213,  1.99227506]])"
      ]
     },
     "execution_count": 11,
     "metadata": {},
     "output_type": "execute_result"
    }
   ],
   "source": [
    "kmeans.cluster_centers_"
   ]
  },
  {
   "cell_type": "code",
   "execution_count": 12,
   "metadata": {},
   "outputs": [],
   "source": [
    "X= [ 1.87408213,  1.99227506]    # 0\n",
    "Y= [-1.05928972, -1.08627195]    # 1"
   ]
  },
  {
   "cell_type": "code",
   "execution_count": 13,
   "metadata": {},
   "outputs": [
    {
     "data": {
      "text/plain": [
       "<matplotlib.collections.PathCollection at 0x1a22ed37b8>"
      ]
     },
     "execution_count": 13,
     "metadata": {},
     "output_type": "execute_result"
    },
    {
     "data": {
      "image/png": "[encoded data removed]",
      "text/plain": [
       "<Figure size 432x288 with 1 Axes>"
      ]
     },
     "metadata": {
      "needs_background": "light"
     },
     "output_type": "display_data"
    }
   ],
   "source": [
    "sns.scatterplot(x=\"c1\",y=\"c2\",data=data,color=\"Blue\")\n",
    "plt.scatter(kmeans.cluster_centers_[0][0],kmeans.cluster_centers_[0][1],color=\"Green\", marker=\"x\")\n",
    "plt.scatter(kmeans.cluster_centers_[1][0],kmeans.cluster_centers_[1][1],color=\"Red\", marker=\"+\")"
   ]
  },
  {
   "cell_type": "code",
   "execution_count": 14,
   "metadata": {},
   "outputs": [],
   "source": [
    "sample_1= np.array([[-3.0,3.0]])"
   ]
  },
  {
   "cell_type": "code",
   "execution_count": 15,
   "metadata": {},
   "outputs": [
    {
     "data": {
      "text/plain": [
       "0"
      ]
     },
     "execution_count": 15,
     "metadata": {},
     "output_type": "execute_result"
    }
   ],
   "source": [
    "kmeans.predict(sample_1)[0]"
   ]
  },
  {
   "cell_type": "code",
   "execution_count": 16,
   "metadata": {},
   "outputs": [],
   "source": [
    "sample_2= np.array([[0,0]])"
   ]
  },
  {
   "cell_type": "code",
   "execution_count": 17,
   "metadata": {},
   "outputs": [
    {
     "data": {
      "text/plain": [
       "array([0], dtype=int32)"
      ]
     },
     "execution_count": 17,
     "metadata": {},
     "output_type": "execute_result"
    }
   ],
   "source": [
    "kmeans.predict(sample_2)"
   ]
  },
  {
   "cell_type": "code",
   "execution_count": 18,
   "metadata": {},
   "outputs": [
    {
     "data": {
      "text/plain": [
       "array([1, 0, 0, 0, 0, 0, 0, 0, 0, 0, 0, 0, 0, 0, 0, 0, 0, 0, 0, 0, 0, 0,\n",
       "       0, 0, 0, 0, 0, 0, 0, 0, 0, 0, 0, 0, 0, 0, 0, 0, 0, 0, 0, 0, 0, 0,\n",
       "       0, 0, 0, 0, 0, 0, 0, 1, 1, 1, 1, 1, 1, 1, 1, 1, 1, 1, 1, 1, 1, 1,\n",
       "       1, 1, 1, 1, 1, 1, 1, 1, 1, 1, 1, 1, 1, 1, 1, 1, 1, 1, 1, 1, 1, 1,\n",
       "       1, 1, 1, 1, 1, 1, 1, 1, 1, 1, 1, 1, 1], dtype=int32)"
      ]
     },
     "execution_count": 18,
     "metadata": {},
     "output_type": "execute_result"
    }
   ],
   "source": [
    "kmeans.labels_"
   ]
  },
  {
   "cell_type": "code",
   "execution_count": 19,
   "metadata": {},
   "outputs": [
    {
     "data": {
      "text/plain": [
       "[<matplotlib.lines.Line2D at 0x1a22f338d0>]"
      ]
     },
     "execution_count": 19,
     "metadata": {},
     "output_type": "execute_result"
    },
    {
     "data": {
      "image/png": "[encoded data removed]",
      "text/plain": [
       "<Figure size 432x288 with 1 Axes>"
      ]
     },
     "metadata": {
      "needs_background": "light"
     },
     "output_type": "display_data"
    }
   ],
   "source": [
    "#calculating the error for the clusters from 2 to 11\n",
    "\n",
    "error= []\n",
    "for i in range(1,11):        \n",
    "    kmeans=KMeans(n_clusters= i).fit(data.values)\n",
    "    error.append(kmeans.inertia_)\n",
    "plt.plot(range(1,11),error)"
   ]
  },
  {
   "cell_type": "code",
   "execution_count": 20,
   "metadata": {},
   "outputs": [
    {
     "data": {
      "text/plain": [
       "[527.4283799346838,\n",
       " 70.89955405171371,\n",
       " 55.53030072916667,\n",
       " 41.43454698827484,\n",
       " 32.865459697757316,\n",
       " 25.018753825893366,\n",
       " 20.05983748992092,\n",
       " 17.699279811184457,\n",
       " 15.870175230868423,\n",
       " 13.772300528650069]"
      ]
     },
     "execution_count": 20,
     "metadata": {},
     "output_type": "execute_result"
    }
   ],
   "source": [
    "error    #so the optimal clusters= 2 (at the curve of the elbow)"
   ]
  },
  {
   "cell_type": "markdown",
   "metadata": {},
   "source": [
    "## DBScan"
   ]
  },
  {
   "cell_type": "code",
   "execution_count": 21,
   "metadata": {},
   "outputs": [],
   "source": [
    "from sklearn.cluster import DBSCAN\n",
    "dbscan = DBSCAN()"
   ]
  },
  {
   "cell_type": "code",
   "execution_count": 22,
   "metadata": {},
   "outputs": [],
   "source": [
    "from sklearn.preprocessing import StandardScaler\n",
    "clusters = dbscan.fit_predict(data)"
   ]
  },
  {
   "cell_type": "code",
   "execution_count": 23,
   "metadata": {},
   "outputs": [
    {
     "data": {
      "text/plain": [
       "Text(0, 0.5, 'Feature 1')"
      ]
     },
     "execution_count": 23,
     "metadata": {},
     "output_type": "execute_result"
    },
    {
     "data": {
      "image/png": "[encoded data removed]",
      "text/plain": [
       "<Figure size 432x288 with 1 Axes>"
      ]
     },
     "metadata": {
      "needs_background": "light"
     },
     "output_type": "display_data"
    }
   ],
   "source": [
    "plt.scatter(data.values[:, 0], data.values[:, 1], c=clusters, cmap=\"plasma\")\n",
    "plt.xlabel(\"Feature 0\")\n",
    "plt.ylabel(\"Feature 1\")"
   ]
  },
  {
   "cell_type": "code",
   "execution_count": null,
   "metadata": {},
   "outputs": [],
   "source": []
  }
 ],
 "metadata": {
  "kernelspec": {
   "display_name": "Python 3",
   "language": "python",
   "name": "python3"
  },
  "language_info": {
   "codemirror_mode": {
    "name": "ipython",
    "version": 3
   },
   "file_extension": ".py",
   "mimetype": "text/x-python",
   "name": "python",
   "nbconvert_exporter": "python",
   "pygments_lexer": "ipython3",
   "version": "3.7.1"
  }
 },
 "nbformat": 4,
 "nbformat_minor": 2
}
